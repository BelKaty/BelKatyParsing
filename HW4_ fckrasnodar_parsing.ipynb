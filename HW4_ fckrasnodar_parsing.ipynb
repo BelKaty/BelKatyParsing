{
  "cells": [
    {
      "cell_type": "markdown",
      "metadata": {
        "id": "view-in-github",
        "colab_type": "text"
      },
      "source": [
        "<a href=\"https://colab.research.google.com/github/BelKaty/BelKatyParsing/blob/main/HW4_%20fckrasnodar_parsing.ipynb\" target=\"_parent\"><img src=\"https://colab.research.google.com/assets/colab-badge.svg\" alt=\"Open In Colab\"/></a>"
      ]
    },
    {
      "cell_type": "markdown",
      "source": [
        "#Сбор и разметка данных (семинары)\n",
        "###Урок 4. Парсинг HTML. XPath\n",
        "###Выберите веб-сайт с табличными данными, который вас интересует. https://github.com/BelKaty/BelKatyParsing/blob/main/Скриншот%20от%202024-05-26%2013-32-54.png\n",
        "###Напишите код Python, использующий библиотеку requests для отправки HTTP GET-запроса на сайт и получения HTML-содержимого страницы.\n",
        "###Выполните парсинг содержимого HTML с помощью библиотеки lxml, чтобы извлечь данные из таблицы.\n",
        "###Сохраните извлеченные данные в CSV-файл с помощью модуля csv. https://github.com/BelKaty/BelKatyParsing/blob/main/rpl.csv\n",
        "\n",
        "###Ваш код должен включать следующее:\n",
        "\n",
        "###Строку агента пользователя в заголовке HTTP-запроса, чтобы имитировать веб-браузер и избежать блокировки сервером.\n",
        "###Выражения XPath для выбора элементов данных таблицы и извлечения их содержимого.\n",
        "###Обработка ошибок для случаев, когда данные не имеют ожидаемого формата.\n",
        "###Комментарии для объяснения цели и логики кода.\n",
        "\n",
        "###Примечание: Пожалуйста, не забывайте соблюдать этические и юридические нормы при веб-скреппинге."
      ],
      "metadata": {
        "id": "dFwYpv597dMA"
      }
    },
    {
      "cell_type": "markdown",
      "metadata": {
        "id": "YzQb0Al361_2"
      },
      "source": [
        "### Получение таблицы рейтинга Российской Премьер-лиги по футболу"
      ]
    },
    {
      "cell_type": "code",
      "source": [
        "!pip install lxml"
      ],
      "metadata": {
        "colab": {
          "base_uri": "https://localhost:8080/"
        },
        "id": "vsOymrue62_b",
        "outputId": "02e15d9d-53e6-4289-f1af-735cd03042bc"
      },
      "execution_count": 1,
      "outputs": [
        {
          "output_type": "stream",
          "name": "stdout",
          "text": [
            "Requirement already satisfied: lxml in /usr/local/lib/python3.10/dist-packages (4.9.4)\n"
          ]
        }
      ]
    },
    {
      "cell_type": "markdown",
      "source": [
        "### Импорт библиотек"
      ],
      "metadata": {
        "id": "_HZSjyNOAjOv"
      }
    },
    {
      "cell_type": "code",
      "execution_count": 2,
      "metadata": {
        "id": "q9Rl5cjp62AA"
      },
      "outputs": [],
      "source": [
        "import requests\n",
        "import csv\n",
        "from lxml import html\n"
      ]
    },
    {
      "cell_type": "markdown",
      "source": [
        "###Задание url и отправка запроса\n",
        "###Определение целевого URL и Отправка HTTP GET запроса на целевой URL с пользовательским заголовком User-Agent"
      ],
      "metadata": {
        "id": "Z-NqgDKEBotB"
      }
    },
    {
      "cell_type": "code",
      "execution_count": 3,
      "metadata": {
        "id": "_UEJsA8a62AD"
      },
      "outputs": [],
      "source": [
        "url = \"https://fckrasnodar.ru/\"\n",
        "\n",
        "response = requests.get(url, headers = {\n",
        "   'User-Agent' : 'Mozilla/5.0 (Macintosh; Intel Mac OS X 10_15_7) AppleWebKit/537.36 (KHTML, like Gecko) Chrome/108.0.0.0 Safari/537.36'})\n"
      ]
    },
    {
      "cell_type": "markdown",
      "source": [
        "### Парсинг HTML-содержимого ответа с помощью библиотеки lxml"
      ],
      "metadata": {
        "id": "aongXO-FB6On"
      }
    },
    {
      "cell_type": "code",
      "execution_count": 4,
      "metadata": {
        "id": "j_YQFumy62AD"
      },
      "outputs": [],
      "source": [
        "tree = html.fromstring(response.content)"
      ]
    },
    {
      "cell_type": "markdown",
      "source": [
        "### Использование выражения XPath для выбора всех строк таблицы в пределах таблицы с классом 'records-table'"
      ],
      "metadata": {
        "id": "Qyh2sXLeCCUP"
      }
    },
    {
      "cell_type": "code",
      "execution_count": 5,
      "metadata": {
        "colab": {
          "base_uri": "https://localhost:8080/"
        },
        "id": "bttMkheA62AE",
        "outputId": "cce7fbe6-a2c5-45cb-c4a1-8103388142d1"
      },
      "outputs": [
        {
          "output_type": "stream",
          "name": "stdout",
          "text": [
            "1 Зенит 30 57\n",
            "2 Краснодар 30 56\n",
            "3 Динамо 30 56\n",
            "4 Локомотив 30 53\n",
            "5 Спартак 30 50\n",
            "6 ЦСКА 30 48\n",
            "7 Ростов 30 43\n",
            "8 Рубин 30 42\n",
            "9 Крылья Советов 30 41\n",
            "10 Ахмат 30 35\n",
            "11 Факел 30 32\n",
            "12 Оренбург 30 31\n",
            "13 Пари НН 30 30\n",
            "14 Урал 30 30\n",
            "15 Балтика 30 26\n",
            "16 Сочи 30 24\n",
            "[['Место', 'Команда', 'Игры', 'Очки'], ['1', 'Зенит', '30', '57'], ['2', 'Краснодар', '30', '56'], ['3', 'Динамо', '30', '56'], ['4', 'Локомотив', '30', '53'], ['5', 'Спартак', '30', '50'], ['6', 'ЦСКА', '30', '48'], ['7', 'Ростов', '30', '43'], ['8', 'Рубин', '30', '42'], ['9', 'Крылья Советов', '30', '41'], ['10', 'Ахмат', '30', '35'], ['11', 'Факел', '30', '32'], ['12', 'Оренбург', '30', '31'], ['13', 'Пари НН', '30', '30'], ['14', 'Урал', '30', '30'], ['15', 'Балтика', '30', '26'], ['16', 'Сочи', '30', '24']]\n"
          ]
        }
      ],
      "source": [
        "table_items = tree.xpath('//div[@id=\"champ-rpl\"]/table/tbody/tr')\n",
        "table = [['Место', 'Команда', 'Игры', 'Очки']]\n",
        "\n",
        "\n",
        "for item in table_items:\n",
        "\n",
        "    positn = item.xpath('.//td[position()=1]/text()')[0].strip().replace(',','')\n",
        "    name_com = item.xpath('.//td[position()=3]/a/text()')[0].strip().replace(',','')\n",
        "    games = item.xpath('.//td[position()=4]/text()')[0].strip().replace(',','')\n",
        "    points = item.xpath('.//td[position()=5]/text()')[0].strip().replace(',','')\n",
        "    table.append([positn, name_com, games, points])\n",
        "\n",
        "\n",
        "    print(positn, end=' ')\n",
        "    print(name_com, end=' ')\n",
        "    print(games, end=' ')\n",
        "    print(points)\n",
        "\n",
        "\n",
        "print(table)"
      ]
    },
    {
      "cell_type": "markdown",
      "source": [
        "###Сохраните извлеченные данные в CSV-файл с помощью модуля csv"
      ],
      "metadata": {
        "id": "KBTUA-dnCjKJ"
      }
    },
    {
      "cell_type": "code",
      "execution_count": 6,
      "metadata": {
        "id": "QO5neypF62AE"
      },
      "outputs": [],
      "source": [
        "with open('./rpl.csv', 'w',  encoding='utf8') as f:\n",
        "    writer = csv.writer(f)\n",
        "    writer.writerows(table)\n",
        "\n",
        "# newline='',"
      ]
    }
  ],
  "metadata": {
    "kernelspec": {
      "display_name": "Python 3",
      "language": "python",
      "name": "python3"
    },
    "language_info": {
      "codemirror_mode": {
        "name": "ipython",
        "version": 3
      },
      "file_extension": ".py",
      "mimetype": "text/x-python",
      "name": "python",
      "nbconvert_exporter": "python",
      "pygments_lexer": "ipython3",
      "version": "3.12.2"
    },
    "colab": {
      "provenance": [],
      "include_colab_link": true
    }
  },
  "nbformat": 4,
  "nbformat_minor": 0
}