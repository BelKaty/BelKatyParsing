{
  "cells": [
    {
      "cell_type": "markdown",
      "metadata": {
        "id": "view-in-github",
        "colab_type": "text"
      },
      "source": [
        "<a href=\"https://colab.research.google.com/github/BelKaty/BelKatyParsing/blob/main/HW4_parsing.ipynb\" target=\"_parent\"><img src=\"https://colab.research.google.com/assets/colab-badge.svg\" alt=\"Open In Colab\"/></a>"
      ]
    },
    {
      "cell_type": "markdown",
      "source": [
        "#Сбор и разметка данных (семинары)\n",
        "###Урок 4. Парсинг HTML. XPath\n",
        "###Выберите веб-сайт с табличными данными, который вас интересует.\n",
        "###Напишите код Python, использующий библиотеку requests для отправки HTTP GET-запроса на сайт и получения HTML-содержимого страницы.\n",
        "###Выполните парсинг содержимого HTML с помощью библиотеки lxml, чтобы извлечь данные из таблицы.\n",
        "###Сохраните извлеченные данные в CSV-файл с помощью модуля csv.\n",
        "\n",
        "###Ваш код должен включать следующее:\n",
        "\n",
        "###Строку агента пользователя в заголовке HTTP-запроса, чтобы имитировать веб-браузер и избежать блокировки сервером.\n",
        "###Выражения XPath для выбора элементов данных таблицы и извлечения их содержимого.\n",
        "###Обработка ошибок для случаев, когда данные не имеют ожидаемого формата.\n",
        "###Комментарии для объяснения цели и логики кода.\n",
        "\n",
        "###Примечание: Пожалуйста, не забывайте соблюдать этические и юридические нормы при веб-скреппинге."
      ],
      "metadata": {
        "id": "dFwYpv597dMA"
      }
    },
    {
      "cell_type": "markdown",
      "metadata": {
        "id": "YzQb0Al361_2"
      },
      "source": [
        "###Получение программы передач канала МУЗ-ТВ"
      ]
    },
    {
      "cell_type": "code",
      "source": [
        "!pip install lxml"
      ],
      "metadata": {
        "colab": {
          "base_uri": "https://localhost:8080/"
        },
        "id": "vsOymrue62_b",
        "outputId": "28a2c84c-2aa6-42a6-c191-0b15aa5ed848"
      },
      "execution_count": null,
      "outputs": [
        {
          "output_type": "stream",
          "name": "stdout",
          "text": [
            "Requirement already satisfied: lxml in /usr/local/lib/python3.10/dist-packages (4.9.4)\n"
          ]
        }
      ]
    },
    {
      "cell_type": "markdown",
      "source": [
        "### Импорт библиотек"
      ],
      "metadata": {
        "id": "_HZSjyNOAjOv"
      }
    },
    {
      "cell_type": "code",
      "execution_count": null,
      "metadata": {
        "id": "q9Rl5cjp62AA"
      },
      "outputs": [],
      "source": [
        "import requests\n",
        "import csv\n",
        "from lxml import html\n"
      ]
    },
    {
      "cell_type": "markdown",
      "source": [
        "###Задание url и отправка запроса\n",
        "###Определение целевого URL и Отправка HTTP GET запроса на целевой URL с пользовательским заголовком User-Agent"
      ],
      "metadata": {
        "id": "Z-NqgDKEBotB"
      }
    },
    {
      "cell_type": "code",
      "execution_count": null,
      "metadata": {
        "id": "_UEJsA8a62AD"
      },
      "outputs": [],
      "source": [
        "url = \"https://tv.yandex.ru/channel/muz-tv-55\"\n",
        "\n",
        "response = requests.get(url, headers = {\n",
        "   'User-Agent' : 'Mozilla/5.0 (Macintosh; Intel Mac OS X 10_15_7) AppleWebKit/537.36 (KHTML, like Gecko) Chrome/108.0.0.0 Safari/537.36'})\n"
      ]
    },
    {
      "cell_type": "markdown",
      "source": [
        "### Парсинг HTML-содержимого ответа с помощью библиотеки lxml"
      ],
      "metadata": {
        "id": "aongXO-FB6On"
      }
    },
    {
      "cell_type": "code",
      "execution_count": null,
      "metadata": {
        "id": "j_YQFumy62AD"
      },
      "outputs": [],
      "source": [
        "tree = html.fromstring(response.content)"
      ]
    },
    {
      "cell_type": "markdown",
      "source": [
        "### Использование выражения XPath для выбора всех строк таблицы в пределах таблицы с классом 'records-table'"
      ],
      "metadata": {
        "id": "Qyh2sXLeCCUP"
      }
    },
    {
      "cell_type": "code",
      "execution_count": null,
      "metadata": {
        "colab": {
          "base_uri": "https://localhost:8080/"
        },
        "id": "bttMkheA62AE",
        "outputId": "7aa94f64-c186-4ef7-f73f-d34fbb3d3e49"
      },
      "outputs": [
        {
          "output_type": "stream",
          "name": "stdout",
          "text": [
            "08:00 Моя волна\n",
            "/program/moya-volna-6672319?eventId=225133100\n",
            "09:00 Pro-новости\n",
            "/program/pro-novosti-7328845?eventId=225133101\n",
            "09:20 Знаешь ли ты?\n",
            "/program/znaesh-li-ty-7433924?eventId=225133102\n",
            "10:20 Правда о Шамане: феномен Дронова\n",
            "/program/pravda-o-shamane-fenomen-dronova-7173278?eventId=225133103\n",
            "11:00 Хит-сториз. Корни Ты узнаешь её\n",
            "/program/hit-storiz-6900707?eventId=225133104\n",
            "11:30 Плейлист | Весна\n",
            "/program/pleylist-vesna-6844529?eventId=225133105\n",
            "11:40 Шик или пшик? Энциклопедия понтов\n",
            "/program/shik-ili-pshik-enciklopediya-pontov-6800285?eventId=225133106\n",
            "12:40 Pro-новости\n",
            "/program/pro-novosti-7328845?eventId=225133107\n",
            "13:00 Муз'итив\n",
            "/program/muzitiv-7329160?eventId=225133108\n",
            "14:20 Плейлист | Весна\n",
            "/program/pleylist-vesna-6844529?eventId=225133109\n",
            "15:30 Хиты по-русски\n",
            "/program/hity-po-russki-6656683?eventId=225133110\n",
            "16:30 Муз'итив\n",
            "/program/muzitiv-7329160?eventId=225133111\n",
            "18:00 Золотая лихорадка\n",
            "/program/zolotaya-lihoradka-7328831?eventId=225133112\n",
            "20:00 Муз'итив\n",
            "/program/muzitiv-7329160?eventId=225133113\n",
            "21:00 Музэнерго\n",
            "/program/muzenergo-7536445?eventId=225133114\n",
            "22:00 Каждое утро\n",
            "/program/kajdoe-utro-7337824?eventId=225133115\n",
            "23:05 Teen чарт\n",
            "/program/teen-chart-7328842?eventId=225133116\n",
            "23:40 Pro-новости\n",
            "/program/pro-novosti-7328845?eventId=225133117\n",
            "00:00 Топ-30. Народный хит\n",
            "/program/top-30-narodnyy-hit-7309486?eventId=225133118\n",
            "02:30 10 самых!\n",
            "/program/10-samyh-7328838?eventId=225133119\n",
            "03:00 Топ15 Like FM\n",
            "/program/top15-like-fm-6366729?eventId=225133120\n",
            "04:00 Приехали! Маврикий\n",
            "/program/priehali-7367335?eventId=225133121\n",
            "04:30 Перемотка\n",
            "/program/peremotka-7424515?eventId=225133122\n",
            "[['08:00', 'Моя волна'], ['09:00', 'Pro-новости'], ['09:20', 'Знаешь ли ты?'], ['10:20', 'Правда о Шамане: феномен Дронова'], ['11:00', 'Хит-сториз. Корни Ты узнаешь её'], ['11:30', 'Плейлист | Весна'], ['11:40', 'Шик или пшик? Энциклопедия понтов'], ['12:40', 'Pro-новости'], ['13:00', \"Муз'итив\"], ['14:20', 'Плейлист | Весна'], ['15:30', 'Хиты по-русски'], ['16:30', \"Муз'итив\"], ['18:00', 'Золотая лихорадка'], ['20:00', \"Муз'итив\"], ['21:00', 'Музэнерго'], ['22:00', 'Каждое утро'], ['23:05', 'Teen чарт'], ['23:40', 'Pro-новости'], ['00:00', 'Топ-30. Народный хит'], ['02:30', '10 самых!'], ['03:00', 'Топ15 Like FM'], ['04:00', 'Приехали! Маврикий'], ['04:30', 'Перемотка']]\n"
          ]
        }
      ],
      "source": [
        "table_items = tree.xpath('//li[@class=\"channel-schedule__event\"]')\n",
        "\n",
        "table = []\n",
        "\n",
        "for item in table_items:\n",
        "    start_time = item.xpath('.//time/text()')[0].strip()\n",
        "    program_name = item.xpath('.//div/h3/span/text()')[0].strip().replace('\"','').replace(',','')\n",
        "    link = item.xpath('.//a/@href')[0]\n",
        "    table.append([start_time, program_name])\n",
        "\n",
        "    print(start_time, end=' ')\n",
        "    print(program_name)\n",
        "    print(link)\n",
        "\n",
        "print(table)"
      ]
    },
    {
      "cell_type": "markdown",
      "source": [
        "###Сохраните извлеченные данные в CSV-файл с помощью модуля csv"
      ],
      "metadata": {
        "id": "KBTUA-dnCjKJ"
      }
    },
    {
      "cell_type": "code",
      "execution_count": null,
      "metadata": {
        "id": "QO5neypF62AE"
      },
      "outputs": [],
      "source": [
        "with open('./program.csv', 'w', newline='', encoding='utf8') as f:\n",
        "    writer = csv.writer(f)\n",
        "    writer.writerows(table)\n",
        "\n"
      ]
    }
  ],
  "metadata": {
    "kernelspec": {
      "display_name": "Python 3",
      "language": "python",
      "name": "python3"
    },
    "language_info": {
      "codemirror_mode": {
        "name": "ipython",
        "version": 3
      },
      "file_extension": ".py",
      "mimetype": "text/x-python",
      "name": "python",
      "nbconvert_exporter": "python",
      "pygments_lexer": "ipython3",
      "version": "3.12.2"
    },
    "colab": {
      "provenance": [],
      "include_colab_link": true
    }
  },
  "nbformat": 4,
  "nbformat_minor": 0
}