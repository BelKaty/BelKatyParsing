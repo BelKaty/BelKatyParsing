{
  "cells": [
    {
      "cell_type": "markdown",
      "metadata": {
        "id": "view-in-github",
        "colab_type": "text"
      },
      "source": [
        "<a href=\"https://colab.research.google.com/github/BelKaty/BelKatyParsing/blob/main/HW3_parsing.ipynb\" target=\"_parent\"><img src=\"https://colab.research.google.com/assets/colab-badge.svg\" alt=\"Open In Colab\"/></a>"
      ]
    },
    {
      "cell_type": "markdown",
      "metadata": {
        "id": "mJiwr13JTuoa"
      },
      "source": [
        "### Сбор и разметка данных (семинары)\n",
        "### Урок 3. Системы управления базами данных MongoDB и Кликхаус в Python\n",
        "1. Установите MongoDB на локальной машине, а также зарегистрируйтесь в онлайн-сервисе. https://www.mongodb.com/ https://www.mongodb.com/products/compass https://github.com/BelKaty/BelKatyParsing/blob/main/Регистрация%20в%20MongoDB.JPG\n",
        "2. Загрузите данные который вы получили на предыдущем уроке путем скрейпинга сайта с помощью Buautiful Soup в MongoDB и создайте базу данных и коллекции для их хранения. https://github.com/BelKaty/BelKatyParsing/blob/main/MongoDB%20с%20данными.JPG\n",
        "3. Поэкспериментируйте с различными методами запросов.\n",
        "4. Зарегистрируйтесь в ClickHouse.\n",
        "5. Загрузите данные в ClickHouse и создайте таблицу для их хранения."
      ]
    },
    {
      "cell_type": "markdown",
      "metadata": {
        "id": "nn6BnV5VTuod"
      },
      "source": [
        "#### 2. Загрузите данные который вы получили на предыдущем уроке путем скрейпинга сайта с помощью Buautiful Soup в MongoDB и создайте базу данных и коллекции для их хранения."
      ]
    },
    {
      "cell_type": "code",
      "source": [
        "!python3 -m pip install pymongo==3.12"
      ],
      "metadata": {
        "colab": {
          "base_uri": "https://localhost:8080/"
        },
        "id": "39XYFE4fTwEY",
        "outputId": "db827800-0679-428a-fde9-afd8d3860110"
      },
      "execution_count": 1,
      "outputs": [
        {
          "output_type": "stream",
          "name": "stdout",
          "text": [
            "Collecting pymongo==3.12\n",
            "  Downloading pymongo-3.12.0.tar.gz (818 kB)\n",
            "\u001b[?25l     \u001b[90m━━━━━━━━━━━━━━━━━━━━━━━━━━━━━━━━━━━━━━━━\u001b[0m \u001b[32m0.0/818.6 kB\u001b[0m \u001b[31m?\u001b[0m eta \u001b[36m-:--:--\u001b[0m\r\u001b[2K     \u001b[91m━━━━\u001b[0m\u001b[90m╺\u001b[0m\u001b[90m━━━━━━━━━━━━━━━━━━━━━━━━━━━━━━━━━━━\u001b[0m \u001b[32m81.9/818.6 kB\u001b[0m \u001b[31m2.2 MB/s\u001b[0m eta \u001b[36m0:00:01\u001b[0m\r\u001b[2K     \u001b[91m━━━━━━━━━━━━━━━━━━━━━━━━━━━━━━━━━━━\u001b[0m\u001b[90m╺\u001b[0m\u001b[90m━━━━\u001b[0m \u001b[32m716.8/818.6 kB\u001b[0m \u001b[31m10.2 MB/s\u001b[0m eta \u001b[36m0:00:01\u001b[0m\r\u001b[2K     \u001b[90m━━━━━━━━━━━━━━━━━━━━━━━━━━━━━━━━━━━━━━━━\u001b[0m \u001b[32m818.6/818.6 kB\u001b[0m \u001b[31m8.2 MB/s\u001b[0m eta \u001b[36m0:00:00\u001b[0m\n",
            "\u001b[?25h  Preparing metadata (setup.py) ... \u001b[?25l\u001b[?25hdone\n",
            "Building wheels for collected packages: pymongo\n",
            "  Building wheel for pymongo (setup.py) ... \u001b[?25l\u001b[?25hdone\n",
            "  Created wheel for pymongo: filename=pymongo-3.12.0-cp310-cp310-linux_x86_64.whl size=508643 sha256=e67bbb4f823d0c48ef324c09a6b54863224fd48e07dbc540c837c1ce949dcf25\n",
            "  Stored in directory: /root/.cache/pip/wheels/85/80/00/4fe7548929ec60f30771db04ad99441daf083b53a1d8eea82c\n",
            "Successfully built pymongo\n",
            "Installing collected packages: pymongo\n",
            "Successfully installed pymongo-3.12.0\n"
          ]
        }
      ]
    },
    {
      "cell_type": "code",
      "execution_count": null,
      "metadata": {
        "id": "d3IDJIUVTuoe"
      },
      "outputs": [],
      "source": [
        "import json\n",
        "from pymongo import MongoClient"
      ]
    },
    {
      "cell_type": "code",
      "execution_count": null,
      "metadata": {
        "id": "xXkMR2yeTuof"
      },
      "outputs": [],
      "source": [
        "# Чтение данных из JSON файла\n",
        "with open(\"books_from_books.toscrape.com.json\", \"r\", encoding='utf-8') as file:\n",
        "    data = json.load(file)"
      ]
    },
    {
      "cell_type": "code",
      "execution_count": null,
      "metadata": {
        "id": "wT4Dw1gvTuog",
        "outputId": "16e8396e-bc8d-45f0-bf48-5f58d5b8791b"
      },
      "outputs": [
        {
          "data": {
            "text/plain": [
              "{'Название': 'A Light in the Attic',\n",
              " 'Цена в фунтах стерлингов': 51.77,\n",
              " 'Количество в наличии': 22,\n",
              " 'Описание': \"\\n    It's hard to imagine a world without A Light in the Attic. This now-classic collection of poetry and drawings from Shel Silverstein celebrates its 20th anniversary with this special edition. Silverstein's humorous and creative verse can amuse the dowdiest of readers. Lemon-faced adults and fidgety kids sit still and read these rhythmic words and laugh and smile and love th It's hard to imagine a world without A Light in the Attic. This now-classic collection of poetry and drawings from Shel Silverstein celebrates its 20th anniversary with this special edition. Silverstein's humorous and creative verse can amuse the dowdiest of readers. Lemon-faced adults and fidgety kids sit still and read these rhythmic words and laugh and smile and love that Silverstein. Need proof of his genius? RockabyeRockabye baby, in the treetopDon't you know a treetopIs no safe place to rock?And who put you up there,And your cradle, too?Baby, I think someone down here'sGot it in for you. Shel, you never sounded so good. ...more\\n\"}"
            ]
          },
          "execution_count": 7,
          "metadata": {},
          "output_type": "execute_result"
        }
      ],
      "source": [
        "### Проверка загрузки на примере первой записи\n",
        "data[0]"
      ]
    },
    {
      "cell_type": "code",
      "execution_count": null,
      "metadata": {
        "id": "dZKCFQK7Tuoh"
      },
      "outputs": [],
      "source": [
        "# Соединение с MongoDB\n",
        "client = MongoClient('localhost', 27017)\n",
        "db = client['my_books_database']"
      ]
    },
    {
      "cell_type": "code",
      "execution_count": null,
      "metadata": {
        "id": "L3SSBZjCTuoh"
      },
      "outputs": [],
      "source": [
        "# Создание коллекции на основании данных из JSON файла\n",
        "collection_name = \"Список книг\"\n",
        "for item in data:\n",
        "    collection = db[collection_name]\n",
        "    collection.insert_one(item)\n",
        "\n",
        "client.close()"
      ]
    },
    {
      "cell_type": "markdown",
      "metadata": {
        "id": "btPvDNjETuoh"
      },
      "source": [
        "### 3. Поэкспериментируйте с различными методами запросов."
      ]
    },
    {
      "cell_type": "code",
      "execution_count": null,
      "metadata": {
        "id": "CFzRzL02Tuoh"
      },
      "outputs": [],
      "source": [
        "# Установление связи с MongoDB\n",
        "client = MongoClient('localhost', 27017)\n",
        "db = client['my_books_database']\n",
        "collection = db['Список книг']"
      ]
    },
    {
      "cell_type": "markdown",
      "source": [
        "### Просмотр количества документов в коллекции"
      ],
      "metadata": {
        "id": "oZwc4UdfdGMQ"
      }
    },
    {
      "cell_type": "code",
      "execution_count": null,
      "metadata": {
        "id": "FuS-gNIpTuoi",
        "outputId": "ebed99b5-4e48-441a-ddfb-78c723e07c89"
      },
      "outputs": [
        {
          "name": "stdout",
          "output_type": "stream",
          "text": [
            "Количества документов в коллекции: 1000\n"
          ]
        }
      ],
      "source": [
        "document_count = collection.count_documents({})\n",
        "print(\"Количества документов в коллекции:\", document_count)"
      ]
    },
    {
      "cell_type": "markdown",
      "source": [
        "### Запрос количества и названий книг, дороже 50 фунтов"
      ],
      "metadata": {
        "id": "o-fs4pfSc6YA"
      }
    },
    {
      "cell_type": "code",
      "execution_count": null,
      "metadata": {
        "id": "ydibUaOxTuoi",
        "outputId": "c8946313-96a0-43c2-bd39-8ad4a01ab2a0"
      },
      "outputs": [
        {
          "name": "stdout",
          "output_type": "stream",
          "text": [
            "Количество книг дороже 59 фунтов -  12 :\n",
            "Название книги: Thomas Jefferson and the Tripoli Pirates: The Forgotten War That Changed American History\n",
            "Название книги: The Gray Rhino: How to Recognize and Act on the Obvious Dangers We Ignore\n",
            "Название книги: The Diary of a Young Girl\n",
            "Название книги: Boar Island (Anna Pigeon #19)\n",
            "Название книги: The Improbability of Love\n",
            "Название книги: The Man Who Mistook His Wife for a Hat and Other Clinical Tales\n",
            "Название книги: The Barefoot Contessa Cookbook\n",
            "Название книги: Last One Home (New Beginnings #1)\n",
            "Название книги: The Perfect Play (Play by Play #1)\n",
            "Название книги: The Bone Hunters (Lexy Vaughan & Steven Macaulay #2)\n",
            "Название книги: Life Without a Recipe\n",
            "Название книги: Civilization and Its Discontents\n"
          ]
        }
      ],
      "source": [
        "query = {\"Цена в фунтах стерлингов\": {\"$gt\": 59.0}}\n",
        "\n",
        "# Получения документов, соответствующих запросу\n",
        "documents = collection.find(query)\n",
        "\n",
        "print(\"Количество книг дороже 59 фунтов - \", collection.count_documents(query), \":\")\n",
        "\n",
        "# Отображение названий книг\n",
        "for document in documents:\n",
        "    print(\"Название книги:\", document['Название'])"
      ]
    },
    {
      "cell_type": "markdown",
      "source": [
        "### Запрос для определения максимальной и минимальной цены книги в коллекции"
      ],
      "metadata": {
        "id": "ie-eQPf3cqFw"
      }
    },
    {
      "cell_type": "code",
      "execution_count": null,
      "metadata": {
        "id": "ShISjL3zTuoj",
        "outputId": "882c1dca-b096-45c9-bf8c-8327e2f0009f"
      },
      "outputs": [
        {
          "name": "stdout",
          "output_type": "stream",
          "text": [
            "Минимальная цена: 10.0\n",
            "Максимальная цена: 59.99\n"
          ]
        }
      ],
      "source": [
        "# Определение конвеера для агрегации данных\n",
        "pipeline = [\n",
        "    {\"$group\": {\"_id\": None, \"max_price\": {\"$max\": \"$Цена в фунтах стерлингов\"}, \"min_price\": {\"$min\": \"$Цена в фунтах стерлингов\"}}}\n",
        "]\n",
        "\n",
        "# Применение конвеера\n",
        "result = list(collection.aggregate(pipeline))\n",
        "\n",
        "# Получение минимального и максимального значений\n",
        "max_price = result[0][\"max_price\"]\n",
        "min_price = result[0][\"min_price\"]\n",
        "\n",
        "\n",
        "print(\"Минимальная цена:\", min_price)\n",
        "print(\"Максимальная цена:\", max_price)\n"
      ]
    },
    {
      "cell_type": "markdown",
      "source": [
        "### Создание конвеера для разбиения всех книг по стоимости на три категории: низкая стоимость (дешевле 15 фунтов), средня стоимость (от 15 до 25 фунтов) и высокая стоимость (выше 25 фунтов). Затем подсчет количества книг в каждой категории агрегацией по полю \"Количество в наличии\""
      ],
      "metadata": {
        "id": "dN1q9X02dUbJ"
      }
    },
    {
      "cell_type": "code",
      "execution_count": null,
      "metadata": {
        "id": "_AQMOlsRTuoj",
        "outputId": "54401086-3a41-40d9-fbe5-f880eef4b818"
      },
      "outputs": [
        {
          "name": "stdout",
          "output_type": "stream",
          "text": [
            "Категория по стоимости: Высокая стоимость\n",
            "Количество в наличии: 5951\n",
            "\n",
            "Категория по стоимости: Средная стоимость\n",
            "Количество в наличии: 1722\n",
            "\n",
            "Категория по стоимости: Низкая стоимость\n",
            "Количество в наличии: 912\n",
            "\n",
            "Общее количество книг в наличии: 8585\n"
          ]
        }
      ],
      "source": [
        "pipeline_by_group = [\n",
        "    {\n",
        "        \"$group\": {\n",
        "            \"_id\": {\n",
        "                \"$cond\": {\n",
        "                    \"if\": {\"$lte\": [\"$Цена в фунтах стерлингов\", 15]},\n",
        "                    \"then\": \"Низкая стоимость\",\n",
        "                    \"else\": {\n",
        "                        \"$cond\": {\n",
        "                            \"if\": {\"$lte\": [\"$Цена в фунтах стерлингов\", 25]},\n",
        "                            \"then\": \"Средная стоимость\",\n",
        "                            \"else\": \"Высокая стоимость\"\n",
        "                        }\n",
        "                    }\n",
        "                }\n",
        "            },\n",
        "            \"Количество в наличии\": {\"$sum\": \"$Количество в наличии\"}\n",
        "        }\n",
        "    }\n",
        "]\n",
        "\n",
        "# Выполнение конвеера\n",
        "result_by_group = list(collection.aggregate(pipeline_by_group))\n",
        "\n",
        "# Печать результатов\n",
        "for category in result_by_group:\n",
        "    print(\"Категория по стоимости:\", category[\"_id\"])\n",
        "    print(\"Количество в наличии:\", category[\"Количество в наличии\"])\n",
        "    print()\n",
        "\n",
        "# Создание конвеера для определения суммарного количества всех книг по полю \"Количество в наличии\"\n",
        "pipeline_total_count = [\n",
        "    {\n",
        "        \"$group\": {\n",
        "            \"_id\": None,\n",
        "            \"total_count\": {\"$sum\": \"$Количество в наличии\"}\n",
        "        }\n",
        "    }\n",
        "]\n",
        "\n",
        "# Выполнение конвеера\n",
        "result_total_count = list(collection.aggregate(pipeline_total_count))\n",
        "\n",
        "# Отображение результата\n",
        "total_count = result_total_count[0]['total_count'] if result_total_count else 0\n",
        "print(\"Общее количество книг в наличии:\", total_count) #### совпадает с суммой книг в наличии по категориям стоимости"
      ]
    }
  ],
  "metadata": {
    "kernelspec": {
      "display_name": "Python 3.11.5 64-bit",
      "language": "python",
      "name": "python3"
    },
    "language_info": {
      "codemirror_mode": {
        "name": "ipython",
        "version": 3
      },
      "file_extension": ".py",
      "mimetype": "text/x-python",
      "name": "python",
      "nbconvert_exporter": "python",
      "pygments_lexer": "ipython3",
      "version": "3.11.5"
    },
    "orig_nbformat": 4,
    "vscode": {
      "interpreter": {
        "hash": "5238573367df39f7286bb46f9ff5f08f63a01a80960060ce41e3c79b190280fa"
      }
    },
    "colab": {
      "provenance": [],
      "include_colab_link": true
    }
  },
  "nbformat": 4,
  "nbformat_minor": 0
}